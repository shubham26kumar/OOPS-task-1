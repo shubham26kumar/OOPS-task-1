{
 "cells": [
  {
   "cell_type": "markdown",
   "id": "4a065a30-2f9c-493c-909d-3dae2ee69170",
   "metadata": {},
   "source": [
    "Q1. Create a vehicle class with an init method having instance variables as name_of_vehicle, max_speed \n",
    "and average_of_vehicle. "
   ]
  },
  {
   "cell_type": "code",
   "execution_count": 3,
   "id": "c72b0847-9e14-4cdc-946b-d842e562e387",
   "metadata": {},
   "outputs": [],
   "source": [
    "class vehicle:\n",
    "    \n",
    "    def __init__(self, name_of_vehicle, max_speed, average_of_vehicle):\n",
    "        self.name_of_vehicle = name_of_vehicle\n",
    "        self.max_speed = max_speed\n",
    "        self.average_of_vehicle = average_of_vehicle\n",
    "        \n",
    "    def return_vehicle_details(self):\n",
    "        return self.name_of_vehicle, self.max_speed, self.average_of_vehicle\n",
    "        \n",
    "    "
   ]
  },
  {
   "cell_type": "code",
   "execution_count": 4,
   "id": "1e088073-1d65-42c0-bdfc-214c4c305b65",
   "metadata": {},
   "outputs": [],
   "source": [
    "maruti = vehicle(\"baleno\", 360, 60)"
   ]
  },
  {
   "cell_type": "code",
   "execution_count": 5,
   "id": "ad8a24bf-374b-4687-aa0a-2f1698d02c56",
   "metadata": {},
   "outputs": [
    {
     "data": {
      "text/plain": [
       "('baleno', 360, 60)"
      ]
     },
     "execution_count": 5,
     "metadata": {},
     "output_type": "execute_result"
    }
   ],
   "source": [
    "maruti.return_vehicle_details()"
   ]
  },
  {
   "cell_type": "markdown",
   "id": "a7b79b70-5bfa-4c2c-896a-cdf1d2c77723",
   "metadata": {},
   "source": [
    "Q2.  Create a child class car from the vehicle class created in Que 1, which will inherit the vehicle class. \n",
    "Create a method named seating_capacity which takes capacity as an argument and returns the name of \n",
    "the vehicle and its seating capacity."
   ]
  },
  {
   "cell_type": "code",
   "execution_count": 6,
   "id": "7789f902-539a-410b-a702-1ef72874f671",
   "metadata": {},
   "outputs": [],
   "source": [
    "class car(vehicle):\n",
    "    \n",
    "    def seating_capacity(self, capacity):\n",
    "        self.capacity = capacity\n",
    "        \n",
    "    \n",
    "    \n",
    "        return (self.name_of_vehicle, self.capacity)"
   ]
  },
  {
   "cell_type": "code",
   "execution_count": 17,
   "id": "ad065abb-2b9d-4225-ae23-9bf565397b4b",
   "metadata": {},
   "outputs": [
    {
     "data": {
      "text/plain": [
       "('bALENO', 5)"
      ]
     },
     "execution_count": 17,
     "metadata": {},
     "output_type": "execute_result"
    }
   ],
   "source": [
    "\n",
    "c.seating_capacity(5)"
   ]
  },
  {
   "cell_type": "markdown",
   "id": "7750e7a4-4659-46eb-8f56-7c0c5e31d225",
   "metadata": {},
   "source": [
    "Q3. What is multiple inheritance? Write a python code to demonstrate multiple inheritance."
   ]
  },
  {
   "cell_type": "markdown",
   "id": "c29aeda3-5593-4458-9ced-eeb41c6050b0",
   "metadata": {},
   "source": [
    "Ans:-When a class is derived from more than one base class it is called multiple Inheritance. The derived class inherits all the features of the base case.\n",
    " "
   ]
  },
  {
   "cell_type": "code",
   "execution_count": 11,
   "id": "056326b0-0293-446a-b846-b21ac3409a3d",
   "metadata": {},
   "outputs": [
    {
     "name": "stdout",
     "output_type": "stream",
     "text": [
      "Mammals can give direct birth.\n",
      "Winged animals can flap.\n"
     ]
    }
   ],
   "source": [
    "class Mammal:\n",
    "    def mammal_info(self):\n",
    "        print(\"Mammals can give direct birth.\")\n",
    "\n",
    "class WingedAnimal:\n",
    "    def winged_animal_info(self):\n",
    "        print(\"Winged animals can flap.\")\n",
    "\n",
    "class Bat(Mammal, WingedAnimal):\n",
    "    pass\n",
    "\n",
    "# create an object of Bat class\n",
    "b1 = Bat()\n",
    "\n",
    "b1.mammal_info()\n",
    "b1.winged_animal_info()"
   ]
  },
  {
   "cell_type": "markdown",
   "id": "4b858b23-8dcc-45b8-918d-b27240a1103f",
   "metadata": {},
   "source": [
    "Q4. What are getter and setter in python? Create a class and create a getter and a setter method in this \n",
    "class."
   ]
  },
  {
   "cell_type": "markdown",
   "id": "c62b1b3e-fe8a-4cec-a26e-0bbd70aedc2d",
   "metadata": {},
   "source": [
    "Ans:-Getter: A method that allows you to access an attribute in a given class\n",
    "Setter: A method that allows you to set or mutate the value of an attribute in a class\n",
    "In OOP, the getter and setter pattern suggests that public attributes should be used only when we’re sure that no one will ever need to attach behavior to them. If an attribute is likely to change its internal implementation, then we should use getter and setter methods."
   ]
  },
  {
   "cell_type": "code",
   "execution_count": 12,
   "id": "98e9c348-e3c4-4adf-9590-386bfb7911fd",
   "metadata": {},
   "outputs": [
    {
     "name": "stdout",
     "output_type": "stream",
     "text": [
      "19\n",
      "19\n"
     ]
    }
   ],
   "source": [
    "class get_age:   \n",
    "    def __init__(self, age = 0):   \n",
    "         self._age = age   \n",
    "      # using the getter method   \n",
    "    def get_age(self):   \n",
    "        return self._age   \n",
    "      # using the setter method   \n",
    "    def set_age(self, a):   \n",
    "        self._age = a   \n",
    "    \n",
    "John = get_age()   \n",
    "    \n",
    "#using the setter function  \n",
    "John.set_age(19)   \n",
    "    \n",
    "# using the getter function  \n",
    "print(John.get_age())   \n",
    "    \n",
    "print(John._age)  "
   ]
  },
  {
   "cell_type": "markdown",
   "id": "990c4d39-3408-4d37-b67e-28715a68e0cf",
   "metadata": {},
   "source": [
    "Q5.What is method overriding in python? Write a python code to demonstrate method overriding."
   ]
  },
  {
   "cell_type": "markdown",
   "id": "7725346e-4c5a-427d-b846-6b784b79212d",
   "metadata": {},
   "source": [
    "Ans:-Method overriding is an ability of any object-oriented programming language that allows a subclass or child class to provide a specific implementation of a method that is already provided by one of its super-classes or parent classes. When a method in a subclass has the same name, same parameters or signature and same return type(or sub-type) as a method in its super-class, then the method in the subclass is said to override the method in the super-class."
   ]
  },
  {
   "cell_type": "code",
   "execution_count": 13,
   "id": "24878734-04c9-413b-ba49-caeaf439decd",
   "metadata": {},
   "outputs": [],
   "source": [
    "class Animal:\n",
    "    # properties\n",
    "\tmulticellular = True\n",
    "\t# Eukaryotic means Cells with Nucleus\n",
    "\teukaryotic = True\n",
    "\t\n",
    "\t# function breathe\n",
    "\tdef breathe(self):\n",
    "\t    print(\"I breathe oxygen.\")\n",
    "    \n",
    "    # function feed\n",
    "\tdef feed(self):\n",
    "\t    print(\"I eat food.\")"
   ]
  },
  {
   "cell_type": "code",
   "execution_count": 14,
   "id": "98ebdd14-cd3a-48a8-95ab-f85684c98d22",
   "metadata": {},
   "outputs": [],
   "source": [
    "class Herbivorous(Animal):\n",
    "    \n",
    "    # function feed\n",
    "\tdef feed(self):\n",
    "\t    print(\"I eat only plants. I am vegetarian.\")"
   ]
  },
  {
   "cell_type": "code",
   "execution_count": 15,
   "id": "08d95a25-f190-4260-9b53-9efd50d40905",
   "metadata": {},
   "outputs": [
    {
     "name": "stdout",
     "output_type": "stream",
     "text": [
      "I eat only plants. I am vegetarian.\n",
      "I breathe oxygen.\n"
     ]
    }
   ],
   "source": [
    "herbi = Herbivorous()\n",
    "herbi.feed()\n",
    "# calling some other function\n",
    "herbi.breathe()"
   ]
  },
  {
   "cell_type": "markdown",
   "id": "237bfd4a-9a0c-4fa1-b49f-7714b1846347",
   "metadata": {},
   "source": [
    "In this child class herbivorous we have overridden the method feed."
   ]
  }
 ],
 "metadata": {
  "kernelspec": {
   "display_name": "Python 3 (ipykernel)",
   "language": "python",
   "name": "python3"
  },
  "language_info": {
   "codemirror_mode": {
    "name": "ipython",
    "version": 3
   },
   "file_extension": ".py",
   "mimetype": "text/x-python",
   "name": "python",
   "nbconvert_exporter": "python",
   "pygments_lexer": "ipython3",
   "version": "3.10.8"
  }
 },
 "nbformat": 4,
 "nbformat_minor": 5
}
